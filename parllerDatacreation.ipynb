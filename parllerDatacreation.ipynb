{
  "nbformat": 4,
  "nbformat_minor": 0,
  "metadata": {
    "colab": {
      "provenance": []
    },
    "kernelspec": {
      "name": "python3",
      "display_name": "Python 3"
    },
    "language_info": {
      "name": "python"
    }
  },
  "cells": [
    {
      "cell_type": "code",
      "execution_count": null,
      "metadata": {
        "id": "YtgxwLkCiVkp"
      },
      "outputs": [],
      "source": [
        "from huggingface_hub import login\n",
        "login()"
      ]
    },
    {
      "cell_type": "code",
      "source": [
        "!pip install datasets"
      ],
      "metadata": {
        "id": "PlPeU2HLicNd"
      },
      "execution_count": null,
      "outputs": []
    },
    {
      "cell_type": "code",
      "source": [
        "!git clone https://github.com/ylacombe/dataspeech.git"
      ],
      "metadata": {
        "id": "gvHUoqfpicP1"
      },
      "execution_count": null,
      "outputs": []
    },
    {
      "cell_type": "code",
      "source": [
        "%cd dataspeech"
      ],
      "metadata": {
        "id": "3ilB6KNIicSO"
      },
      "execution_count": null,
      "outputs": []
    },
    {
      "cell_type": "code",
      "source": [
        "!pip install -r requirements.txt"
      ],
      "metadata": {
        "id": "dz0Dm5q7icUe"
      },
      "execution_count": null,
      "outputs": []
    },
    {
      "cell_type": "code",
      "source": [
        "from datasets import list_datasets, load_dataset\n",
        "dataset = load_dataset(\"Procit004/Modified_audio_data_API\")"
      ],
      "metadata": {
        "id": "w-s_UVlbicWW"
      },
      "execution_count": null,
      "outputs": []
    },
    {
      "cell_type": "code",
      "source": [
        "pprint(dataset.info.__dict__)"
      ],
      "metadata": {
        "id": "qWqXX9--iicl"
      },
      "execution_count": null,
      "outputs": []
    },
    {
      "cell_type": "code",
      "source": [
        "print(dataset)"
      ],
      "metadata": {
        "id": "blMUcKMWiie-"
      },
      "execution_count": null,
      "outputs": []
    },
    {
      "cell_type": "code",
      "source": [
        "del dataset"
      ],
      "metadata": {
        "id": "hmwXmTK4iihG"
      },
      "execution_count": null,
      "outputs": []
    },
    {
      "cell_type": "code",
      "source": [
        "!python main.py \"Procit004/Modified_audio_data_API\" \\\n",
        "  --configuration \"default\" \\\n",
        "  --text_column_name \"text\" \\\n",
        "  --audio_column_name \"audio\" \\\n",
        "  --cpu_num_workers 8 \\\n",
        "  --num_workers_per_gpu_for_pitch 2 \\\n",
        "  --rename_column \\\n",
        "  --repo_id \"OwnData_english_3\""
      ],
      "metadata": {
        "id": "KxoWk0pWiijN"
      },
      "execution_count": null,
      "outputs": []
    },
    {
      "cell_type": "code",
      "source": [
        "!python ./scripts/metadata_to_text.py \\\n",
        "    \"Procit004/OwnData_english_2\" \\\n",
        "    --repo_id \"Procit004/OwnData_english_2\" \\\n",
        "    --configuration \"default\" \\\n",
        "    --cpu_num_workers 10\\\n",
        "    --path_to_bin_edges \"./examples/tags_to_annotations/v01_bin_edges.json\" \\\n",
        "    --avoid_pitch_computation"
      ],
      "metadata": {
        "id": "CCxfTlsUinn1"
      },
      "execution_count": null,
      "outputs": []
    },
    {
      "cell_type": "code",
      "source": [
        "!python ./scripts/run_prompt_creation.py \\\n",
        "  --speaker_name \"ram\" \\\n",
        "  --is_single_speaker \\\n",
        "  --dataset_name \"Procit004/OwnData_english_2\" \\\n",
        "  --output_dir \"./tmp_sita\" \\\n",
        "  --dataset_config_name \"default\" \\\n",
        "  --model_name_or_path \"google/gemma-2b-it\" \\\n",
        "  --per_device_eval_batch_size 10 \\\n",
        "  --attn_implementation \"sdpa\" \\\n",
        "  --dataloader_num_workers 3 \\\n",
        "  --push_to_hub \\\n",
        "  --hub_dataset_id \"OwnData_english_model_v2\" \\\n",
        "  --preprocessing_num_workers 3"
      ],
      "metadata": {
        "id": "-buVI19VinqN"
      },
      "execution_count": null,
      "outputs": []
    },
    {
      "cell_type": "code",
      "source": [],
      "metadata": {
        "id": "Q7A-C1XTinsd"
      },
      "execution_count": null,
      "outputs": []
    }
  ]
}